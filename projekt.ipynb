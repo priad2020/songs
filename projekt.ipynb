{
 "cells": [
  {
   "cell_type": "markdown",
   "metadata": {},
   "source": [
    "## Wczytanie danych"
   ]
  },
  {
   "cell_type": "code",
   "execution_count": 23,
   "metadata": {},
   "outputs": [],
   "source": [
    "import numpy as np\n",
    "import pandas as pd\n",
    "import lyricsgenius\n",
    "import json\n",
    "import requests\n",
    "import nltk\n",
    "import matplotlib.pyplot as plt\n",
    "import seaborn as sns\n",
    "#%pip install stop-words\n",
    "from stop_words import get_stop_words\n",
    "#nltk.download('wordnet')\n",
    "from nltk.stem import WordNetLemmatizer\n",
    "lemmatizer = WordNetLemmatizer() \n",
    "genius = lyricsgenius.Genius(\"soOLiPdEPwYDC5ZwsK2Td_jDeG8ZS9FIdNSBnL5dEkfHUsvnjBje47xs6EWG8QJe\")\n",
    "from sklearn.feature_extraction.text import  CountVectorizer\n",
    "from sklearn.model_selection import train_test_split, cross_val_score\n",
    "from sklearn.linear_model import LogisticRegression,LogisticRegressionCV\n",
    "from sklearn.feature_extraction.text import TfidfVectorizer"
   ]
  },
  {
   "cell_type": "code",
   "execution_count": 2,
   "metadata": {},
   "outputs": [],
   "source": [
    "r = requests.get('https://raw.githubusercontent.com/priad2020/songs/master/songs.json')\n",
    "c = r.text\n",
    "data = json.loads(c)\n",
    "popList = data.get(\"pop\")\n",
    "rockList = data.get(\"rock\")\n",
    "rapList = data.get(\"rap\")"
   ]
  },
  {
   "cell_type": "code",
   "execution_count": 3,
   "metadata": {},
   "outputs": [],
   "source": [
    "def Songs(List):\n",
    "    songs = []\n",
    "    for i in List: \n",
    "        songs.append(genius.search_song(i).lyrics)\n",
    "    return songs\n"
   ]
  },
  {
   "cell_type": "code",
   "execution_count": 5,
   "metadata": {},
   "outputs": [
    {
     "name": "stdout",
     "output_type": "stream",
     "text": [
      "Searching for \"Shape of You\"...\n",
      "Done.\n",
      "Searching for \"thank u, next\"...\n",
      "Done.\n",
      "Searching for \"The Hills\"...\n",
      "Done.\n",
      "Searching for \"God’s Plan\"...\n",
      "Done.\n",
      "Searching for \"Drunk in Love\"...\n",
      "Done.\n",
      "Searching for \"Bohemian Rhapsody\"...\n",
      "Done.\n",
      "Searching for \"Work from Home\"...\n",
      "Done.\n",
      "Searching for \"Too Good at Goodbyes\"...\n",
      "Done.\n",
      "Searching for \"Vogue\"...\n",
      "Done.\n",
      "Searching for \"7 rings\"...\n",
      "Done.\n",
      "Searching for \"Hotline Bling\"...\n",
      "Done.\n",
      "Searching for \"Closer\"...\n",
      "Done.\n",
      "Searching for \"Starboy\"...\n",
      "Done.\n",
      "Searching for \"Shallow\"...\n",
      "Done.\n",
      "Searching for \"Formation\"...\n",
      "Done.\n",
      "Searching for \"One Dance\"...\n",
      "Done.\n",
      "Searching for \"Perfect\"...\n",
      "Done.\n",
      "Searching for \"FRIENDS\"...\n",
      "Done.\n",
      "Searching for \"I’m the One\"...\n",
      "Done.\n",
      "Searching for \"Money Trees\"...\n",
      "Done.\n",
      "Searching for \"Hello\"...\n",
      "Done.\n",
      "Searching for \"Thrift Shop\"...\n",
      "Done.\n",
      "Searching for \"New Rules\"...\n",
      "Done.\n",
      "Searching for \"Poetic Justice\"...\n",
      "Done.\n",
      "Searching for \"White Iverson\"...\n",
      "Done.\n",
      "Searching for \"Love Yourself\"...\n",
      "Done.\n",
      "Searching for \"Can’t Hold Us\"...\n",
      "Done.\n",
      "Searching for \"Attention\"...\n",
      "Done.\n",
      "Searching for \"A Million Dreams\"...\n",
      "Done.\n",
      "Searching for \"God is a woman\"...\n",
      "Done.\n",
      "Searching for \"All of Me\"...\n",
      "Done.\n",
      "Searching for \"Partition\"...\n",
      "Done.\n",
      "Searching for \"Psycho\"...\n",
      "Done.\n",
      "Searching for \"Feeling Myself\"...\n",
      "Done.\n",
      "Searching for \"Side To Side\"...\n",
      "Done.\n",
      "Searching for \"Fly Me to the Moon\"...\n",
      "Done.\n",
      "Searching for \"Say So\"...\n",
      "Done.\n",
      "Searching for \"Blinding Lights\"...\n",
      "Done.\n",
      "Searching for \"Rockstar\"...\n",
      "Done.\n",
      "Searching for \"Don't Start Now\"...\n",
      "Done.\n",
      "Searching for \"Adore You\"...\n",
      "Done.\n",
      "Searching for \"Nobody But You\"...\n",
      "Done.\n",
      "Searching for \"Before You Go\"...\n",
      "Done.\n",
      "Searching for \"One Margarita\"...\n",
      "Done.\n",
      "Searching for \"Heartless\"...\n",
      "Done.\n",
      "Searching for \"Bluebird\"...\n",
      "Done.\n",
      "Searching for \"In Your Eyes\"...\n",
      "Done.\n",
      "Searching for \"Watermelon Sugar\"...\n",
      "Done.\n",
      "Searching for \"Level Of Concern\"...\n",
      "Done.\n",
      "Searching for \"Here And Now\"...\n",
      "Done.\n",
      "Searching for \"Die From A Broken\"...\n",
      "Done.\n",
      "Searching for \"Drinking Alone\"...\n",
      "Done.\n",
      "Searching for \"Imagine\"...\n",
      "Done.\n",
      "Searching for \"Rain On Me\"...\n",
      "Done.\n",
      "Searching for \"The Scotts\"...\n",
      "Done.\n",
      "Searching for \"I Hope\"...\n",
      "Done.\n",
      "Searching for \"Whats Poppin\"...\n",
      "Done.\n",
      "Searching for \"Intentions\"...\n",
      "Done.\n",
      "Searching for \"Chasin' You\"...\n",
      "Done.\n",
      "Searching for \"Falling\"...\n",
      "Done.\n",
      "Searching for \"Sunflower\"...\n",
      "Done.\n",
      "Searching for \"I Hope You’re Happy Now\"...\n",
      "Done.\n",
      "Searching for \"One Margarita\"...\n",
      "Done.\n",
      "Searching for \"Hollaback Girl\"...\n",
      "Done.\n",
      "Searching for \"Unwritten\"...\n",
      "Done.\n",
      "Searching for \"Irreplaceable\"...\n",
      "Done.\n",
      "Searching for \"Umbrella\"...\n",
      "Done.\n",
      "Searching for \"Apologize\"...\n",
      "Done.\n",
      "Searching for \"I Kissed a Girl\"...\n",
      "Done.\n",
      "Searching for \"So What\"...\n",
      "Done.\n",
      "Searching for \"Just Dance\"...\n",
      "Done.\n",
      "Searching for \"Poker Face\"...\n",
      "Done.\n",
      "Searching for \"Hot n Cold\"...\n",
      "Done.\n"
     ]
    }
   ],
   "source": [
    "popsongs = Songs(popList)"
   ]
  },
  {
   "cell_type": "code",
   "execution_count": 6,
   "metadata": {},
   "outputs": [
    {
     "name": "stdout",
     "output_type": "stream",
     "text": [
      "Searching for \"I Can’t Drive 55\"...\n",
      "Done.\n",
      "Searching for \"Lit Up\"...\n",
      "Done.\n",
      "Searching for \"Frankenstein\"...\n",
      "Done.\n",
      "Searching for \"Carry On Wayward Son\"...\n",
      "Done.\n",
      "Searching for \"Higher\"...\n",
      "Done.\n",
      "Searching for \"I Believe In A Thing Called Love\"...\n",
      "Done.\n",
      "Searching for \"Turn Up The Radio\"...\n",
      "Done.\n",
      "Searching for \"Don’t Tell Me You Love Me\"...\n",
      "Done.\n",
      "Searching for \"Bullet With Butterfly Wings\"...\n",
      "Done.\n",
      "Searching for \"Aqualung\"...\n",
      "Done.\n",
      "Searching for \"Party Hard\"...\n",
      "Done.\n",
      "Searching for \"Would?\"...\n",
      "Done.\n",
      "Searching for \"Seventeen\"...\n",
      "Done.\n",
      "Searching for \"The Beautiful People\"...\n",
      "Done.\n",
      "Searching for \"Slither\"...\n",
      "Done.\n",
      "Searching for \"I Wanna Be Somebody\"...\n",
      "Done.\n",
      "Searching for \"Bring Me To Life\"...\n",
      "Done.\n",
      "Searching for \"Since You Been Gone\"...\n",
      "Done.\n",
      "Searching for \"Heaven And Hell\"...\n",
      "Done.\n",
      "Searching for \"Any Way You Want It\"...\n",
      "Done.\n",
      "Searching for \"Rebel Yell\"...\n",
      "Done.\n",
      "Searching for \"Feel Like Making Love\"...\n",
      "Done.\n",
      "Searching for \"Black Hole Sun\"...\n",
      "Done.\n",
      "Searching for \"Kiss Me Deadly\"...\n",
      "Done.\n",
      "Searching for \"Seven Nation Army\"...\n",
      "Done.\n",
      "Searching for \"Love Removal Machine\"...\n",
      "Done.\n",
      "Searching for \"Jailbreak\"...\n",
      "Done.\n",
      "Searching for \"Heartbreaker\"...\n",
      "Done.\n",
      "Searching for \"Mountain Song\"...\n",
      "Done.\n",
      "Searching for \"Hot Blooded\"...\n",
      "Done.\n",
      "Searching for \"Cult Of Personality\"...\n",
      "Done.\n",
      "Searching for \"More Human Than Human\"...\n",
      "Done.\n",
      "Searching for \"Tush\"...\n",
      "Done.\n",
      "Searching for \"The Final Countdown\"...\n",
      "Done.\n",
      "Searching for \"Kick Out the Jams\"...\n",
      "Done.\n",
      "Searching for \"Liar\"...\n",
      "Done.\n",
      "Searching for \"Eye Of The Tiger\"...\n",
      "Done.\n",
      "Searching for \"Breaking The Chains\"...\n",
      "Done.\n",
      "Searching for \"Round And Round\"...\n",
      "Done.\n",
      "Searching for \"18 And Life\"...\n",
      "Done.\n",
      "Searching for \"The Stroke\"...\n",
      "Done.\n",
      "Searching for \"Interstate Love Song\"...\n",
      "Done.\n",
      "Searching for \"You Really Got Me\"...\n",
      "Done.\n",
      "Searching for \"Cherry Pie\"...\n",
      "Done.\n",
      "Searching for \"Welcome To The Jungle\"...\n",
      "Done.\n",
      "Searching for \"Back In Black\"...\n",
      "Done.\n",
      "Searching for \"Whole Lotta Love\"...\n",
      "Done.\n",
      "Searching for \"Paranoid\"...\n",
      "Done.\n",
      "Searching for \"Enter Sandman\"...\n",
      "Done.\n",
      "Searching for \"Won’t Get Fooled Again\"...\n",
      "Done.\n",
      "Searching for \"Smells Like Teen Spirit\"...\n",
      "Done.\n",
      "Searching for \"Walk This Way\"...\n",
      "Done.\n",
      "Searching for \"Runnin With The Devil\"...\n",
      "Done.\n",
      "Searching for \"Ace Of Spades\"...\n",
      "Done.\n",
      "Searching for \"Smoke On The Water\"...\n",
      "Done.\n",
      "Searching for \"Breaking The Law\"...\n",
      "Done.\n",
      "Searching for \"Photograph\"...\n",
      "Done.\n",
      "Searching for \"Run To The Hills\"...\n",
      "Done.\n",
      "Searching for \"Dr. Feelgood\"...\n",
      "Done.\n",
      "Searching for \"Rock And Roll All Nite\"...\n",
      "Done.\n",
      "Searching for \"I Wanna Rock\"...\n",
      "Done.\n",
      "Searching for \"Rock You Like A Hurricane\"...\n",
      "Done.\n",
      "Searching for \"Tom Sawyer\"...\n",
      "Done.\n",
      "Searching for \"You Give Love A Bad Name\"...\n",
      "Done.\n",
      "Searching for \"Kashmir\"...\n",
      "Done.\n",
      "Searching for \"Hey Joe\"...\n",
      "Done.\n",
      "Searching for \"Crazy Train\"...\n",
      "Done.\n",
      "Searching for \"In-A-Gadda-Da-Vida\"...\n",
      "Done.\n",
      "Searching for \"Free Bird\"...\n",
      "Done.\n",
      "Searching for \"Still Of The Night\"...\n",
      "Done.\n",
      "Searching for \"Everlong\"...\n",
      "Done.\n",
      "Searching for \"Bad Reputation\"...\n",
      "Done.\n",
      "Searching for \"Even Flow\"...\n",
      "Done.\n",
      "Searching for \"Dirty Deeds Done Dirt Cheap\"...\n",
      "Done.\n",
      "Searching for \"Basket Case\"...\n",
      "Done.\n"
     ]
    }
   ],
   "source": [
    "rocksongs = Songs(rockList)"
   ]
  },
  {
   "cell_type": "code",
   "execution_count": 7,
   "metadata": {},
   "outputs": [
    {
     "name": "stdout",
     "output_type": "stream",
     "text": [
      "Searching for \"Rap God\"...\n",
      "Done.\n",
      "Searching for \"Savage\"...\n",
      "Done.\n",
      "Searching for \"Bitch, Don’t Kill My Vibe\"...\n",
      "Done.\n",
      "Searching for \"HUMBLE.\"...\n",
      "Done.\n",
      "Searching for \"Bad and Boujee\"...\n",
      "Done.\n",
      "Searching for \"Man’s Not Hot\"...\n",
      "Done.\n",
      "Searching for \"God’s Plan\"...\n",
      "Done.\n",
      "Searching for \"SICKO MODE\"...\n",
      "Done.\n",
      "Searching for \"Bodak Yellow\"...\n",
      "Done.\n",
      "Searching for \"XO TOUR Llif3\"...\n",
      "Done.\n",
      "Searching for \"1-800-273-8255\"...\n",
      "Done.\n",
      "Searching for \"In My Feelings\"...\n",
      "Done.\n",
      "Searching for \"SAD!\"...\n",
      "Done.\n",
      "Searching for \"Trap Queen\"...\n",
      "Done.\n",
      "Searching for \"Hotline Bling\"...\n",
      "Done.\n",
      "Searching for \"rockstar\"...\n",
      "Done.\n",
      "Searching for \"Mercy\"...\n",
      "Done.\n",
      "Searching for \"m.A.A.d city\"...\n",
      "Done.\n",
      "Searching for \"Killshot\"...\n",
      "Done.\n",
      "Searching for \"Starboy\"...\n",
      "Done.\n",
      "Searching for \"Jocelyn Flores\"...\n",
      "Done.\n",
      "Searching for \"Holy Grail\"...\n",
      "Done.\n",
      "Searching for \"One Dance\"...\n",
      "Done.\n",
      "Searching for \"Niggas in Paris\"...\n",
      "Done.\n",
      "Searching for \"Panda\"...\n",
      "Done.\n",
      "Searching for \"Look At Me!\"...\n",
      "Done.\n",
      "Searching for \"I’m the One\"...\n",
      "Done.\n",
      "Searching for \"Mask Off\"...\n",
      "Done.\n",
      "Searching for \"Know Yourself\"...\n",
      "Done.\n",
      "Searching for \"Hot Nigga\"...\n",
      "Done.\n",
      "Searching for \"This Is America\"...\n",
      "Done.\n",
      "Searching for \"Money Trees\"...\n",
      "Done.\n",
      "Searching for \"Back to Back\"...\n",
      "Done.\n",
      "Searching for \"XXX.\"...\n",
      "Done.\n",
      "Searching for \"Lose Yourself\"...\n",
      "Done.\n",
      "Searching for \"Caroline\"...\n",
      "Done.\n",
      "Searching for \"Black Beatles\"...\n",
      "Done.\n",
      "Searching for \"No Role Modelz\"...\n",
      "Done.\n",
      "Searching for \"Godzilla\"...\n",
      "Done.\n",
      "Searching for \"Thrift Shop\"...\n",
      "Done.\n",
      "Searching for \"iSpy\"...\n",
      "Done.\n",
      "Searching for \"Control\"...\n",
      "Done.\n",
      "Searching for \"The Monster\"...\n",
      "Done.\n",
      "Searching for \"goosebumps\"...\n",
      "Done.\n",
      "Searching for \"Poetic Justice\"...\n",
      "Done.\n",
      "Searching for \"Lucky You\"...\n",
      "Done.\n",
      "Searching for \"King Kunta\"...\n",
      "Done.\n",
      "Searching for \"MotorSport\"...\n",
      "Done.\n",
      "Searching for \"White Iverson\"...\n",
      "Done.\n",
      "Searching for \"679\"...\n",
      "Done.\n",
      "Searching for \"Lucid Dreams\"...\n",
      "Done.\n",
      "Searching for \"Monster\"...\n",
      "Done.\n",
      "Searching for \"Ultralight Beam\"...\n",
      "Done.\n",
      "Searching for \"FEFE\"...\n",
      "Done.\n",
      "Searching for \"All Me\"...\n",
      "Done.\n",
      "Searching for \"See You Again\"...\n",
      "Done.\n",
      "Searching for \"Love Sosa\"...\n",
      "Done.\n",
      "Searching for \"The Ringer\"...\n",
      "Done.\n",
      "Searching for \"Can’t Hold Us\"...\n",
      "Done.\n",
      "Searching for \"Guns and Ships\"...\n",
      "Done.\n",
      "Searching for \"Don’t\"...\n",
      "Done.\n",
      "Searching for \"Havana\"...\n",
      "Done.\n",
      "Searching for \"Power Trip\"...\n",
      "Done.\n",
      "Searching for \"LOVE.\"...\n",
      "Done.\n",
      "Searching for \"Fake Love\"...\n",
      "Done.\n",
      "Searching for \"Bad\"...\n",
      "Done.\n",
      "Searching for \"Fuck Love\"...\n",
      "Done.\n",
      "Searching for \"OOOUUU\"...\n",
      "Done.\n",
      "Searching for \"Clique\"...\n",
      "Done.\n",
      "Searching for \"From Time\"...\n",
      "Done.\n",
      "Searching for \"GOOBA\"...\n",
      "Done.\n",
      "Searching for \"Same Love\"...\n",
      "Done.\n",
      "Searching for \"ULTIMATE\"...\n",
      "Done.\n",
      "Searching for \"I Like It\"...\n",
      "Done.\n",
      "Searching for \"212\"...\n",
      "Done.\n",
      "Searching for \"Star Shopping\"...\n",
      "Done.\n",
      "Searching for \"Dat $tick\"...\n",
      "Done.\n"
     ]
    }
   ],
   "source": [
    "rapsongs = Songs(rapList)"
   ]
  },
  {
   "cell_type": "markdown",
   "metadata": {},
   "source": [
    "## Obróbka danych"
   ]
  },
  {
   "cell_type": "code",
   "execution_count": 8,
   "metadata": {},
   "outputs": [],
   "source": [
    "def songs(songs):\n",
    "    words = []\n",
    "    punctuation = [\"!\",\",\", \".\",'\"', \":\", \";\", \"?\" ,\"(\",\")\",\"—\",\"–\",\"-\", \"*\",\"”\",\"“\",\"&\"\n",
    "                   \"»\",\"…\",\"«\",\"—\",\"[\",\"]\",\"1\",\"2\",\"3\",\"4\"] \n",
    "    stopWords = get_stop_words('english')\n",
    "    stopWords.append(\"pre-chorus\")\n",
    "    stopWords.append(\"prechorus\")\n",
    "    stopWords.append (\"verse\")\n",
    "    stopWords.append(\"post-chorus\")\n",
    "    stopWords.append(\"postchorus\")\n",
    "    stopWords.append(\"weren't\") \n",
    "    stopWords.append(\"is's\")\n",
    "    stopWords.append(\"that’s\")\n",
    "    for song in songs:\n",
    "        song = song.lower()\n",
    "        for sign in punctuation:\n",
    "             song = song.replace(sign,\"\")\n",
    "                \n",
    "        w = \"\"            \n",
    "        for word in song.split():\n",
    "            if not(word in stopWords):\n",
    "                word = word.replace(\"’\",\"\")\n",
    "                word =word.replace(\"'\",\"\")\n",
    "                word = lemmatizer.lemmatize(word)\n",
    "                w += word + \" \"\n",
    "        words.append(w)\n",
    "                \n",
    "    return  words"
   ]
  },
  {
   "cell_type": "code",
   "execution_count": 9,
   "metadata": {},
   "outputs": [],
   "source": [
    "popwords = songs(popsongs)\n",
    "rockwords = songs(rocksongs)\n",
    "rapwords = songs(rapsongs)"
   ]
  },
  {
   "cell_type": "markdown",
   "metadata": {},
   "source": [
    "## Podział danych na zbór uczący i testowy"
   ]
  },
  {
   "cell_type": "code",
   "execution_count": 10,
   "metadata": {},
   "outputs": [],
   "source": [
    "def split(popwords,rockwords,rapwords):\n",
    "    length_pop = len(popwords)\n",
    "    lengthLern_pop = int(length_pop * 0.3)\n",
    "    popwords_Learn = popwords[0:lengthLern_pop ]\n",
    "    popwords_Test = popwords[lengthLern_pop +1:]\n",
    "\n",
    "    length_rock = len(rockwords)\n",
    "    lengthLern_rock = int(length_rock * 0.3)\n",
    "    rockwords_Learn = rockwords[0:lengthLern_rock]\n",
    "    rockwords_Test = rockwords[lengthLern_rock+1:]\n",
    "\n",
    "    length_rap = len(rapwords)\n",
    "    lengthLern_rap = int(length_rap * 0.3)\n",
    "    rapwords_Learn = rapwords[0:lengthLern_rap]\n",
    "    rapwords_Test = rapwords[lengthLern_rap+1:]\n",
    "    return [popwords_Learn, popwords_Test, rockwords_Learn,rockwords_Test,rapwords_Learn,rapwords_Test] \n"
   ]
  },
  {
   "cell_type": "code",
   "execution_count": 11,
   "metadata": {},
   "outputs": [],
   "source": [
    "[popwords_Learn, popwords_Test, rockwords_Learn,rockwords_Test,rapwords_Learn,rapwords_Test] = split(popwords,rockwords,rapwords)"
   ]
  },
  {
   "cell_type": "markdown",
   "metadata": {},
   "source": [
    "## Metryki dla zbioru uczącego"
   ]
  },
  {
   "cell_type": "code",
   "execution_count": 12,
   "metadata": {},
   "outputs": [],
   "source": [
    "def CreateData(popwords,rockwords,rapwords):\n",
    "    pop = \"\"\n",
    "    for subList in popwords:\n",
    "        pop += subList\n",
    "\n",
    "    rock = \"\"\n",
    "    for subList in rockwords:\n",
    "        rock += subList\n",
    "\n",
    "    rap =\"\"\n",
    "    for subList in rapwords:\n",
    "        rap += subList    \n",
    "\n",
    "    return [ pop,rock,rap] "
   ]
  },
  {
   "cell_type": "code",
   "execution_count": 13,
   "metadata": {},
   "outputs": [],
   "source": [
    "[pop_data,rock_data,rap_data] = CreateData(popwords_Learn,rockwords_Learn,rapwords_Learn)\n",
    "dane =[pop_data,rock_data,rap_data]\n"
   ]
  },
  {
   "cell_type": "markdown",
   "metadata": {},
   "source": [
    "## Porównywanie Dokumentów "
   ]
  },
  {
   "cell_type": "code",
   "execution_count": 21,
   "metadata": {},
   "outputs": [],
   "source": [
    "def distance(x, y, typ = 'Cosinus'):\n",
    "    if typ == 'Cosinus':\n",
    "        return np.dot(x, y) / (np.sqrt(np.dot(x, x)) * np.sqrt(np.dot(y, y)))\n",
    "    elif typ == 'Eukledis':\n",
    "        return np.sqrt(np.sum((x - y) ** 2))\n",
    "    else: # miejska\n",
    "        return np.sum(np.abs(x - y))"
   ]
  },
  {
   "cell_type": "code",
   "execution_count": 24,
   "metadata": {},
   "outputs": [],
   "source": [
    "tmdVektorizer = CountVectorizer()\n",
    "tmd = np.array(tmdVektorizer.fit_transform(dane).todense())\n",
    "\n",
    "tfidfVectorizer = TfidfVectorizer()\n",
    "tfidf = np.array(tfidfVectorizer.fit_transform(dane).todense())"
   ]
  },
  {
   "cell_type": "code",
   "execution_count": 25,
   "metadata": {},
   "outputs": [
    {
     "data": {
      "text/plain": [
       "<matplotlib.axes._subplots.AxesSubplot at 0x2200e7626c8>"
      ]
     },
     "execution_count": 25,
     "metadata": {},
     "output_type": "execute_result"
    },
    {
     "data": {
      "image/png": "[encoded data removed]",
      "text/plain": [
       "<Figure size 1000x300 with 4 Axes>"
      ]
     },
     "metadata": {
      "needs_background": "light"
     },
     "output_type": "display_data"
    }
   ],
   "source": [
    "types = [\"pop\",\"rock\",\"rap\"]\n",
    "\n",
    "#typ_odleglosci = 'Euklidesowa'\n",
    "mac_odl_cos = np.empty([3,3])\n",
    "mac_odl_euk = np.empty([3,3])\n",
    "for i in range(0,3):\n",
    "    for j in range(0,3):\n",
    "        mac_odl_cos[i,j] = distance(tfidf[i],tfidf[j],\"Cosinus\")\n",
    "        mac_odl_euk[i,j] = distance(tfidf[i],tfidf[j],'Eukledis')\n",
    "            \n",
    "plt.figure(figsize=(10,3),dpi = 100)\n",
    "plt.subplots_adjust(wspace=0.8,hspace=0.1)\n",
    "plt.subplot(1,2,1)\n",
    "plt.title(\"Podobnieństwo dokumentów - odległośc kosinusowa\")\n",
    "sns.heatmap(pd.DataFrame( mac_odl_cos, index = types, columns = types),annot =  mac_odl_cos)\n",
    "plt.subplot(1,2,2)\n",
    "plt.title(\"Podobnieństwo dokumentów - odległośc Eukledisowa\")\n",
    "sns.heatmap(pd.DataFrame( mac_odl_euk, index = types, columns = types),annot = mac_odl_euk)"
   ]
  },
  {
   "cell_type": "code",
   "execution_count": 26,
   "metadata": {},
   "outputs": [],
   "source": [
    "#def WhatSongItIs(song)\n",
    "#x = np.array(w.transform([song]).todense())[0]\n",
    "#for i in range(0,3):\n",
    "#    print(\"\\t %s -> % 2.4f\" % (types[i],distance(x,s[i])))\n",
    "        "
   ]
  },
  {
   "cell_type": "code",
   "execution_count": 27,
   "metadata": {},
   "outputs": [],
   "source": [
    "from sklearn.datasets import fetch_20newsgroups\n",
    "from sklearn.feature_extraction.text import TfidfVectorizer\n",
    "from sklearn.feature_extraction.text import HashingVectorizer\n",
    "from sklearn.feature_selection import SelectKBest, chi2\n",
    "from sklearn.linear_model import RidgeClassifier\n",
    "from sklearn.svm import LinearSVC\n",
    "from sklearn.linear_model import SGDClassifier\n",
    "from sklearn.linear_model import Perceptron\n",
    "from sklearn.linear_model import PassiveAggressiveClassifier\n",
    "from sklearn.naive_bayes import BernoulliNB, MultinomialNB\n",
    "from sklearn.neighbors import KNeighborsClassifier\n",
    "from sklearn.neighbors import NearestCentroid\n",
    "from sklearn.utils.extmath import density\n",
    "from sklearn import metrics"
   ]
  },
  {
   "cell_type": "markdown",
   "metadata": {},
   "source": [
    "## Przygotowanie zbioru uczącego i testowego "
   ]
  },
  {
   "cell_type": "code",
   "execution_count": 28,
   "metadata": {},
   "outputs": [],
   "source": [
    "def prepareData(popwords,rockwords,rapwords):\n",
    "    df = pd.DataFrame(columns= [\"type\",\"text\",\"length\"])\n",
    "    for i in popwords:\n",
    "        df = df.append({\"type\": \"pop\",\"text\":i,\"length\":len(i.split(\" \"))},ignore_index=True)\n",
    "    for i in rockwords:\n",
    "        df = df.append({\"type\": \"rock\",\"text\":i,\"length\":len(i.split(\" \"))},ignore_index=True)\n",
    "    for i in rapwords:\n",
    "        df = df.append({\"type\": \"rap\",\"text\":i,\"length\":len(i.split(\" \"))},ignore_index=True)\n",
    "    return df"
   ]
  },
  {
   "cell_type": "code",
   "execution_count": 29,
   "metadata": {},
   "outputs": [],
   "source": [
    "train_df = prepareData(popwords_Learn,rockwords_Learn,rapwords_Learn)\n",
    "test_df = prepareData(popwords_Test,rockwords_Test,rapwords_Test)"
   ]
  },
  {
   "cell_type": "code",
   "execution_count": 30,
   "metadata": {},
   "outputs": [],
   "source": [
    "X_trainTfidf=tfidfVectorizer.transform(train_df['text'])\n",
    "X_testTfidf=tfidfVectorizer.transform(test_df['text'])\n"
   ]
  },
  {
   "cell_type": "code",
   "execution_count": 31,
   "metadata": {},
   "outputs": [],
   "source": [
    "X_trainTmd=tmdVektorizer.transform(train_df['text'])\n",
    "X_testTmd=tmdVektorizer.transform(test_df['text'])"
   ]
  },
  {
   "cell_type": "code",
   "execution_count": 32,
   "metadata": {},
   "outputs": [],
   "source": [
    "def TrainAndTestModel(model, X_train, train_genre, X_test, test_genre, metod,metric):\n",
    "    model.fit(X_train, train_genre)\n",
    "    print(\"Dokładność klasyfikacji metodą \" +str(metod)+ \" z użyciem \" + str(metric) +\": \" + str(model.score(X_test, test_genre)))\n",
    "    target = test_genre\n",
    "    predicted = model.predict(X_test)\n",
    "    print (metrics.classification_report(target, predicted, digits=4))"
   ]
  },
  {
   "cell_type": "markdown",
   "metadata": {},
   "source": [
    "## Regresja Logistyczna"
   ]
  },
  {
   "cell_type": "code",
   "execution_count": 33,
   "metadata": {},
   "outputs": [],
   "source": [
    "model = LogisticRegression(class_weight='balanced', dual=False,max_iter=1000)"
   ]
  },
  {
   "cell_type": "code",
   "execution_count": 34,
   "metadata": {},
   "outputs": [
    {
     "name": "stdout",
     "output_type": "stream",
     "text": [
      "Dokładność klasyfikacji metodą Regresji logistycznej z użyciem tmd: 0.5\n",
      "              precision    recall  f1-score   support\n",
      "\n",
      "         pop     0.3750    0.1765    0.2400        51\n",
      "         rap     0.6757    0.4717    0.5556        53\n",
      "        rock     0.4632    0.8462    0.5986        52\n",
      "\n",
      "    accuracy                         0.5000       156\n",
      "   macro avg     0.5046    0.4981    0.4647       156\n",
      "weighted avg     0.5065    0.5000    0.4668       156\n",
      "\n"
     ]
    }
   ],
   "source": [
    "TrainAndTestModel(model, X_trainTmd ,train_df['type'],X_testTmd, test_df['type'], \"Regresji logistycznej\",\"tmd\")"
   ]
  },
  {
   "cell_type": "code",
   "execution_count": 35,
   "metadata": {},
   "outputs": [
    {
     "name": "stdout",
     "output_type": "stream",
     "text": [
      "Dokładność klasyfikacji metodą Regresji logistycznej z użyciem Tf-idf: 0.5384615384615384\n",
      "              precision    recall  f1-score   support\n",
      "\n",
      "         pop     0.4194    0.2549    0.3171        51\n",
      "         rap     0.6349    0.7547    0.6897        53\n",
      "        rock     0.5000    0.5962    0.5439        52\n",
      "\n",
      "    accuracy                         0.5385       156\n",
      "   macro avg     0.5181    0.5353    0.5169       156\n",
      "weighted avg     0.5195    0.5385    0.5193       156\n",
      "\n"
     ]
    }
   ],
   "source": [
    "TrainAndTestModel(model, X_trainTfidf ,train_df['type'],X_testTfidf, test_df['type'], \"Regresji logistycznej\",\"Tf-idf\")"
   ]
  },
  {
   "cell_type": "markdown",
   "metadata": {},
   "source": [
    "## Metoda Wektorów Nośnych"
   ]
  },
  {
   "cell_type": "code",
   "execution_count": 36,
   "metadata": {},
   "outputs": [],
   "source": [
    "model = LinearSVC( dual=False,max_iter=10000)"
   ]
  },
  {
   "cell_type": "code",
   "execution_count": 37,
   "metadata": {},
   "outputs": [
    {
     "name": "stdout",
     "output_type": "stream",
     "text": [
      "Dokładność klasyfikacji metodą wektorów nośnych z użyciem tmd: 0.48717948717948717\n",
      "              precision    recall  f1-score   support\n",
      "\n",
      "         pop     0.4062    0.2549    0.3133        51\n",
      "         rap     0.6842    0.4906    0.5714        53\n",
      "        rock     0.4302    0.7115    0.5362        52\n",
      "\n",
      "    accuracy                         0.4872       156\n",
      "   macro avg     0.5069    0.4857    0.4736       156\n",
      "weighted avg     0.5087    0.4872    0.4753       156\n",
      "\n"
     ]
    }
   ],
   "source": [
    "TrainAndTestModel(model, X_trainTmd ,train_df['type'],X_testTmd, test_df['type'], \"wektorów nośnych\",\"tmd\")\n"
   ]
  },
  {
   "cell_type": "code",
   "execution_count": 38,
   "metadata": {},
   "outputs": [
    {
     "name": "stdout",
     "output_type": "stream",
     "text": [
      "Dokładność klasyfikacji metodą wektorów nośnych z użyciem Tf-idf: 0.5128205128205128\n",
      "              precision    recall  f1-score   support\n",
      "\n",
      "         pop     0.3333    0.1765    0.2308        51\n",
      "         rap     0.5882    0.7547    0.6612        53\n",
      "        rock     0.5082    0.5962    0.5487        52\n",
      "\n",
      "    accuracy                         0.5128       156\n",
      "   macro avg     0.4766    0.5091    0.4802       156\n",
      "weighted avg     0.4782    0.5128    0.4830       156\n",
      "\n"
     ]
    }
   ],
   "source": [
    "TrainAndTestModel(model, X_trainTfidf ,train_df['type'],X_testTfidf, test_df['type'], \"wektorów nośnych\",\"Tf-idf\")"
   ]
  },
  {
   "cell_type": "markdown",
   "metadata": {},
   "source": [
    "## RidgeClassifier"
   ]
  },
  {
   "cell_type": "code",
   "execution_count": 39,
   "metadata": {},
   "outputs": [],
   "source": [
    "model = RidgeClassifier()"
   ]
  },
  {
   "cell_type": "code",
   "execution_count": 40,
   "metadata": {},
   "outputs": [
    {
     "name": "stdout",
     "output_type": "stream",
     "text": [
      "Dokładność klasyfikacji metodą Ridge z użyciem tmd: 0.4807692307692308\n",
      "              precision    recall  f1-score   support\n",
      "\n",
      "         pop     0.3810    0.1569    0.2222        51\n",
      "         rap     0.7188    0.4340    0.5412        53\n",
      "        rock     0.4272    0.8462    0.5677        52\n",
      "\n",
      "    accuracy                         0.4808       156\n",
      "   macro avg     0.5090    0.4790    0.4437       156\n",
      "weighted avg     0.5111    0.4808    0.4458       156\n",
      "\n"
     ]
    }
   ],
   "source": [
    "TrainAndTestModel(model, X_trainTmd ,train_df['type'],X_testTmd, test_df['type'], \"Ridge\",\"tmd\")"
   ]
  },
  {
   "cell_type": "code",
   "execution_count": 41,
   "metadata": {},
   "outputs": [
    {
     "name": "stdout",
     "output_type": "stream",
     "text": [
      "Dokładność klasyfikacji metodą Ridge z użyciem Tf-idf: 0.5256410256410257\n",
      "              precision    recall  f1-score   support\n",
      "\n",
      "         pop     0.4000    0.1961    0.2632        51\n",
      "         rap     0.5970    0.7547    0.6667        53\n",
      "        rock     0.5000    0.6154    0.5517        52\n",
      "\n",
      "    accuracy                         0.5256       156\n",
      "   macro avg     0.4990    0.5221    0.4938       156\n",
      "weighted avg     0.5003    0.5256    0.4964       156\n",
      "\n"
     ]
    }
   ],
   "source": [
    "TrainAndTestModel(model, X_trainTfidf ,train_df['type'],X_testTfidf, test_df['type'], \"Ridge\",\"Tf-idf\")"
   ]
  },
  {
   "cell_type": "markdown",
   "metadata": {},
   "source": [
    "## SGDClassifier"
   ]
  },
  {
   "cell_type": "code",
   "execution_count": 42,
   "metadata": {},
   "outputs": [],
   "source": [
    "model = SGDClassifier()"
   ]
  },
  {
   "cell_type": "code",
   "execution_count": 43,
   "metadata": {},
   "outputs": [
    {
     "name": "stdout",
     "output_type": "stream",
     "text": [
      "Dokładność klasyfikacji metodą SGDC z użyciem tmd: 0.4807692307692308\n",
      "              precision    recall  f1-score   support\n",
      "\n",
      "         pop     0.3514    0.2549    0.2955        51\n",
      "         rap     0.5652    0.7358    0.6393        53\n",
      "        rock     0.4600    0.4423    0.4510        52\n",
      "\n",
      "    accuracy                         0.4808       156\n",
      "   macro avg     0.4589    0.4777    0.4619       156\n",
      "weighted avg     0.4602    0.4808    0.4641       156\n",
      "\n"
     ]
    }
   ],
   "source": [
    "TrainAndTestModel(model, X_trainTmd ,train_df['type'],X_testTmd, test_df['type'], \"SGDC\",\"tmd\")"
   ]
  },
  {
   "cell_type": "code",
   "execution_count": 44,
   "metadata": {},
   "outputs": [
    {
     "name": "stdout",
     "output_type": "stream",
     "text": [
      "Dokładność klasyfikacji metodą SGDC z użyciem Tf-idf: 0.4935897435897436\n",
      "              precision    recall  f1-score   support\n",
      "\n",
      "         pop     0.3962    0.4118    0.4038        51\n",
      "         rap     0.5862    0.6415    0.6126        53\n",
      "        rock     0.4889    0.4231    0.4536        52\n",
      "\n",
      "    accuracy                         0.4936       156\n",
      "   macro avg     0.4904    0.4921    0.4900       156\n",
      "weighted avg     0.4917    0.4936    0.4914       156\n",
      "\n"
     ]
    }
   ],
   "source": [
    "TrainAndTestModel(model, X_trainTfidf ,train_df['type'],X_testTfidf, test_df['type'], \"SGDC\",\"Tf-idf\")"
   ]
  },
  {
   "cell_type": "markdown",
   "metadata": {},
   "source": [
    "## PassiveAggressiveClassifier"
   ]
  },
  {
   "cell_type": "code",
   "execution_count": 45,
   "metadata": {},
   "outputs": [],
   "source": [
    "model =PassiveAggressiveClassifier()"
   ]
  },
  {
   "cell_type": "code",
   "execution_count": 46,
   "metadata": {},
   "outputs": [
    {
     "name": "stdout",
     "output_type": "stream",
     "text": [
      "Dokładność klasyfikacji metodą PassiveAggressive z użyciem tmd: 0.4807692307692308\n",
      "              precision    recall  f1-score   support\n",
      "\n",
      "         pop     0.3548    0.2157    0.2683        51\n",
      "         rap     0.5862    0.6415    0.6126        53\n",
      "        rock     0.4478    0.5769    0.5042        52\n",
      "\n",
      "    accuracy                         0.4808       156\n",
      "   macro avg     0.4629    0.4780    0.4617       156\n",
      "weighted avg     0.4644    0.4808    0.4639       156\n",
      "\n"
     ]
    }
   ],
   "source": [
    "TrainAndTestModel(model, X_trainTmd ,train_df['type'],X_testTmd, test_df['type'], \"PassiveAggressive\",\"tmd\")"
   ]
  },
  {
   "cell_type": "code",
   "execution_count": 47,
   "metadata": {},
   "outputs": [
    {
     "name": "stdout",
     "output_type": "stream",
     "text": [
      "Dokładność klasyfikacji metodą PassiveAggressive z użyciem Tf-idf: 0.5064102564102564\n",
      "              precision    recall  f1-score   support\n",
      "\n",
      "         pop     0.3529    0.2353    0.2824        51\n",
      "         rap     0.5634    0.7547    0.6452        53\n",
      "        rock     0.5294    0.5192    0.5243        52\n",
      "\n",
      "    accuracy                         0.5064       156\n",
      "   macro avg     0.4819    0.5031    0.4839       156\n",
      "weighted avg     0.4833    0.5064    0.4863       156\n",
      "\n"
     ]
    }
   ],
   "source": [
    "TrainAndTestModel(model, X_trainTfidf ,train_df['type'],X_testTfidf, test_df['type'], \"PassiveAggressive\",\"Tf-idf\")"
   ]
  },
  {
   "cell_type": "markdown",
   "metadata": {},
   "source": [
    "## BernoulliNB"
   ]
  },
  {
   "cell_type": "code",
   "execution_count": 48,
   "metadata": {},
   "outputs": [],
   "source": [
    "model = BernoulliNB()"
   ]
  },
  {
   "cell_type": "code",
   "execution_count": 49,
   "metadata": {},
   "outputs": [
    {
     "name": "stdout",
     "output_type": "stream",
     "text": [
      "Dokładność klasyfikacji metodą BernoulliNB z użyciem tmd: 0.3974358974358974\n",
      "              precision    recall  f1-score   support\n",
      "\n",
      "         pop     0.2222    0.1176    0.1538        51\n",
      "         rap     1.0000    0.1132    0.2034        53\n",
      "        rock     0.4065    0.9615    0.5714        52\n",
      "\n",
      "    accuracy                         0.3974       156\n",
      "   macro avg     0.5429    0.3975    0.3096       156\n",
      "weighted avg     0.5479    0.3974    0.3099       156\n",
      "\n"
     ]
    }
   ],
   "source": [
    "TrainAndTestModel(model, X_trainTmd ,train_df['type'],X_testTmd, test_df['type'], \"BernoulliNB\",\"tmd\")"
   ]
  },
  {
   "cell_type": "code",
   "execution_count": 50,
   "metadata": {},
   "outputs": [
    {
     "name": "stdout",
     "output_type": "stream",
     "text": [
      "Dokładność klasyfikacji metodą BernoulliNB z użyciem Tf-idf: 0.3974358974358974\n",
      "              precision    recall  f1-score   support\n",
      "\n",
      "         pop     0.2222    0.1176    0.1538        51\n",
      "         rap     1.0000    0.1132    0.2034        53\n",
      "        rock     0.4065    0.9615    0.5714        52\n",
      "\n",
      "    accuracy                         0.3974       156\n",
      "   macro avg     0.5429    0.3975    0.3096       156\n",
      "weighted avg     0.5479    0.3974    0.3099       156\n",
      "\n"
     ]
    }
   ],
   "source": [
    "TrainAndTestModel(model, X_trainTfidf ,train_df['type'],X_testTfidf, test_df['type'], \"BernoulliNB\",\"Tf-idf\")"
   ]
  },
  {
   "cell_type": "markdown",
   "metadata": {},
   "source": [
    "## MultinomialNB"
   ]
  },
  {
   "cell_type": "code",
   "execution_count": 51,
   "metadata": {},
   "outputs": [],
   "source": [
    "model = MultinomialNB()"
   ]
  },
  {
   "cell_type": "code",
   "execution_count": 52,
   "metadata": {},
   "outputs": [
    {
     "name": "stdout",
     "output_type": "stream",
     "text": [
      "Dokładność klasyfikacji metodą MultinomialNB z użyciem tmd: 0.5576923076923077\n",
      "              precision    recall  f1-score   support\n",
      "\n",
      "         pop     0.4630    0.4902    0.4762        51\n",
      "         rap     0.6212    0.7736    0.6891        53\n",
      "        rock     0.5833    0.4038    0.4773        52\n",
      "\n",
      "    accuracy                         0.5577       156\n",
      "   macro avg     0.5558    0.5559    0.5475       156\n",
      "weighted avg     0.5569    0.5577    0.5489       156\n",
      "\n"
     ]
    }
   ],
   "source": [
    "TrainAndTestModel(model, X_trainTmd ,train_df['type'],X_testTmd, test_df['type'], \"MultinomialNB\",\"tmd\")"
   ]
  },
  {
   "cell_type": "code",
   "execution_count": 53,
   "metadata": {},
   "outputs": [
    {
     "name": "stdout",
     "output_type": "stream",
     "text": [
      "Dokładność klasyfikacji metodą MultinomialNB z użyciem Tf-idf: 0.4423076923076923\n",
      "              precision    recall  f1-score   support\n",
      "\n",
      "         pop     0.2308    0.0588    0.0938        51\n",
      "         rap     0.4068    0.9057    0.5614        53\n",
      "        rock     0.7200    0.3462    0.4675        52\n",
      "\n",
      "    accuracy                         0.4423       156\n",
      "   macro avg     0.4525    0.4369    0.3742       156\n",
      "weighted avg     0.4536    0.4423    0.3772       156\n",
      "\n"
     ]
    }
   ],
   "source": [
    "TrainAndTestModel(model, X_trainTfidf ,train_df['type'],X_testTfidf, test_df['type'], \"MultinomialNB\",\"Tf-idf\")"
   ]
  },
  {
   "cell_type": "markdown",
   "metadata": {},
   "source": [
    "## KNeighborsClassifier"
   ]
  },
  {
   "cell_type": "code",
   "execution_count": 54,
   "metadata": {},
   "outputs": [],
   "source": [
    "model = KNeighborsClassifier()"
   ]
  },
  {
   "cell_type": "code",
   "execution_count": 55,
   "metadata": {},
   "outputs": [
    {
     "name": "stdout",
     "output_type": "stream",
     "text": [
      "Dokładność klasyfikacji metodą KNeighborsClassifier z użyciem tmd: 0.3525641025641026\n",
      "              precision    recall  f1-score   support\n",
      "\n",
      "         pop     0.3333    0.0196    0.0370        51\n",
      "         rap     0.8000    0.0755    0.1379        53\n",
      "        rock     0.3378    0.9615    0.5000        52\n",
      "\n",
      "    accuracy                         0.3526       156\n",
      "   macro avg     0.4904    0.3522    0.2250       156\n",
      "weighted avg     0.4934    0.3526    0.2256       156\n",
      "\n"
     ]
    }
   ],
   "source": [
    "TrainAndTestModel(model, X_trainTmd ,train_df['type'],X_testTmd, test_df['type'], \"KNeighborsClassifier\",\"tmd\")"
   ]
  },
  {
   "cell_type": "code",
   "execution_count": 56,
   "metadata": {},
   "outputs": [
    {
     "name": "stdout",
     "output_type": "stream",
     "text": [
      "Dokładność klasyfikacji metodą KNeighborsClassifier z użyciem Tf-idf: 0.48717948717948717\n",
      "              precision    recall  f1-score   support\n",
      "\n",
      "         pop     0.4583    0.4314    0.4444        51\n",
      "         rap     0.4828    0.7925    0.6000        53\n",
      "        rock     0.5714    0.2308    0.3288        52\n",
      "\n",
      "    accuracy                         0.4872       156\n",
      "   macro avg     0.5042    0.4849    0.4577       156\n",
      "weighted avg     0.5043    0.4872    0.4587       156\n",
      "\n"
     ]
    }
   ],
   "source": [
    "TrainAndTestModel(model, X_trainTfidf ,train_df['type'],X_testTfidf, test_df['type'], \"KNeighborsClassifier\",\"Tf-idf\")"
   ]
  },
  {
   "cell_type": "markdown",
   "metadata": {},
   "source": [
    "## NearestCentroid"
   ]
  },
  {
   "cell_type": "code",
   "execution_count": 57,
   "metadata": {},
   "outputs": [],
   "source": [
    "model = NearestCentroid()"
   ]
  },
  {
   "cell_type": "code",
   "execution_count": 58,
   "metadata": {},
   "outputs": [
    {
     "name": "stdout",
     "output_type": "stream",
     "text": [
      "Dokładność klasyfikacji metodą NearestCentroid z użyciem tmd: 0.5128205128205128\n",
      "              precision    recall  f1-score   support\n",
      "\n",
      "         pop     0.3529    0.1176    0.1765        51\n",
      "         rap     0.7714    0.5094    0.6136        53\n",
      "        rock     0.4519    0.9038    0.6026        52\n",
      "\n",
      "    accuracy                         0.5128       156\n",
      "   macro avg     0.5254    0.5103    0.4642       156\n",
      "weighted avg     0.5281    0.5128    0.4670       156\n",
      "\n"
     ]
    }
   ],
   "source": [
    "TrainAndTestModel(model, X_trainTmd ,train_df['type'],X_testTmd, test_df['type'], \"NearestCentroid\",\"tmd\")"
   ]
  },
  {
   "cell_type": "code",
   "execution_count": 59,
   "metadata": {},
   "outputs": [
    {
     "name": "stdout",
     "output_type": "stream",
     "text": [
      "Dokładność klasyfikacji metodą NearestCentroid z użyciem Tf-idf: 0.5384615384615384\n",
      "              precision    recall  f1-score   support\n",
      "\n",
      "         pop     0.4146    0.3333    0.3696        51\n",
      "         rap     0.6441    0.7170    0.6786        53\n",
      "        rock     0.5179    0.5577    0.5370        52\n",
      "\n",
      "    accuracy                         0.5385       156\n",
      "   macro avg     0.5255    0.5360    0.5284       156\n",
      "weighted avg     0.5270    0.5385    0.5304       156\n",
      "\n"
     ]
    }
   ],
   "source": [
    "TrainAndTestModel(model, X_trainTfidf ,train_df['type'],X_testTfidf, test_df['type'], \"NearestCentroid\",\"Tf-idf\")"
   ]
  },
  {
   "cell_type": "markdown",
   "metadata": {},
   "source": [
    "## Perceptron"
   ]
  },
  {
   "cell_type": "code",
   "execution_count": 60,
   "metadata": {},
   "outputs": [],
   "source": [
    "model  = Perceptron()"
   ]
  },
  {
   "cell_type": "code",
   "execution_count": 61,
   "metadata": {},
   "outputs": [
    {
     "name": "stdout",
     "output_type": "stream",
     "text": [
      "Dokładność klasyfikacji metodą NearestCentroid z użyciem tmd: 0.5064102564102564\n",
      "              precision    recall  f1-score   support\n",
      "\n",
      "         pop     0.4074    0.4314    0.4190        51\n",
      "         rap     0.5316    0.7925    0.6364        53\n",
      "        rock     0.6522    0.2885    0.4000        52\n",
      "\n",
      "    accuracy                         0.5064       156\n",
      "   macro avg     0.5304    0.5041    0.4851       156\n",
      "weighted avg     0.5312    0.5064    0.4865       156\n",
      "\n"
     ]
    }
   ],
   "source": [
    "TrainAndTestModel(model, X_trainTmd ,train_df['type'],X_testTmd, test_df['type'], \"NearestCentroid\",\"tmd\")"
   ]
  },
  {
   "cell_type": "code",
   "execution_count": 62,
   "metadata": {},
   "outputs": [
    {
     "name": "stdout",
     "output_type": "stream",
     "text": [
      "Dokładność klasyfikacji metodą NearestCentroid z użyciem Tf-idf: 0.5\n",
      "              precision    recall  f1-score   support\n",
      "\n",
      "         pop     0.3571    0.2941    0.3226        51\n",
      "         rap     0.5443    0.8113    0.6515        53\n",
      "        rock     0.5714    0.3846    0.4598        52\n",
      "\n",
      "    accuracy                         0.5000       156\n",
      "   macro avg     0.4910    0.4967    0.4780       156\n",
      "weighted avg     0.4922    0.5000    0.4801       156\n",
      "\n"
     ]
    }
   ],
   "source": [
    "TrainAndTestModel(model, X_trainTfidf ,train_df['type'],X_testTfidf, test_df['type'], \"NearestCentroid\",\"Tf-idf\")"
   ]
  },
  {
   "cell_type": "markdown",
   "metadata": {},
   "source": [
    "## Wykresy"
   ]
  },
  {
   "cell_type": "code",
   "execution_count": 63,
   "metadata": {},
   "outputs": [],
   "source": [
    "def words(songs):\n",
    "    words = []\n",
    "    punctuation = [\"!\",\",\", \".\",'\"', \":\", \";\", \"?\" ,\"(\",\")\",\"—\",\"–\",\"-\", \"*\",\"”\",\"“\",\"&\"\n",
    "                   \"»\",\"…\",\"«\",\"—\",\"[\",\"]\",\"1\",\"2\",\"3\",\"4\"] \n",
    "    stopWords = get_stop_words('english')\n",
    "    stopWords.append(\"pre-chorus\")\n",
    "    stopWords.append (\"verse\")\n",
    "    stopWords.append(\"post-chorus\")\n",
    "    stopWords.append(\"weren't\") \n",
    "    stopWords.append(\"is's\")\n",
    "    stopWords.append(\"that’s\")\n",
    "    for song in songs:\n",
    "        song = song.lower()\n",
    "        for sign in punctuation:\n",
    "             song = song.replace(sign,\"\")\n",
    "                \n",
    "        w = []            \n",
    "        for word in song.split():\n",
    "            if not(word in stopWords):\n",
    "                word = word.replace(\"’\",\"\")\n",
    "                word =word.replace(\"'\",\"\")\n",
    "                word = lemmatizer.lemmatize(word)\n",
    "                w.append(word)\n",
    "        words.append(w)\n",
    "                \n",
    "    return  words"
   ]
  },
  {
   "cell_type": "code",
   "execution_count": 64,
   "metadata": {},
   "outputs": [],
   "source": [
    "popwords = words(popsongs)\n",
    "rockwords = words(rocksongs)\n",
    "rapwords = words(rapsongs)"
   ]
  },
  {
   "cell_type": "code",
   "execution_count": 65,
   "metadata": {},
   "outputs": [],
   "source": [
    "def createDicionary(words):\n",
    "    dic = {}\n",
    "    for word in sorted(words):\n",
    "        if word in  dic.keys():\n",
    "             dic[word] =  dic[word] + 1\n",
    "        else:\n",
    "             dic[word] = 1\n",
    "    return  dic"
   ]
  },
  {
   "cell_type": "code",
   "execution_count": 66,
   "metadata": {},
   "outputs": [],
   "source": [
    "def CreateData(popwords,rockwords,rapwords):\n",
    "    pop = []\n",
    "    for subList in popwords:\n",
    "        pop += subList\n",
    "\n",
    "    rock = []\n",
    "    for subList in rockwords:\n",
    "        rock += subList\n",
    "\n",
    "    rap = []\n",
    "    for subList in rapwords:\n",
    "        rap += subList    \n",
    "\n",
    "    return [ pop,rock,rap] "
   ]
  },
  {
   "cell_type": "code",
   "execution_count": 67,
   "metadata": {},
   "outputs": [],
   "source": [
    "[pop,rock,rap] = CreateData(popwords,rockwords,rapwords)"
   ]
  },
  {
   "cell_type": "code",
   "execution_count": 68,
   "metadata": {},
   "outputs": [],
   "source": [
    "pop_Dict = createDicionary(pop)\n",
    "rock_Dict = createDicionary(rock)\n",
    "rap_Dict = createDicionary(rap)"
   ]
  },
  {
   "cell_type": "code",
   "execution_count": 69,
   "metadata": {},
   "outputs": [],
   "source": [
    "pop_Dict = sorted(pop_Dict.items(), key=lambda x: x[1], reverse=True)\n",
    "rock_Dict = sorted(rock_Dict.items(), key=lambda x: x[1], reverse=True)\n",
    "rap_Dict = sorted(rap_Dict.items(), key=lambda x: x[1], reverse=True)"
   ]
  },
  {
   "cell_type": "code",
   "execution_count": 70,
   "metadata": {},
   "outputs": [],
   "source": [
    "def drawDiagram(data,title):\n",
    "    labels = [item[0] for item in data]\n",
    "    sizes= [item[1] for item in data]\n",
    "    plt.figure(figsize=(5,5),dpi = 100)\n",
    "    plt.subplots_adjust(wspace=0.8,hspace=0.5)\n",
    "    plt.title(title,pad=20)\n",
    "    plt.pie(sizes, labels=labels)\n",
    "\n",
    "    plt.axis('equal')\n",
    "    plt.show()"
   ]
  },
  {
   "cell_type": "code",
   "execution_count": 71,
   "metadata": {},
   "outputs": [
    {
     "data": {
      "image/png": "[encoded data removed]",
      "text/plain": [
       "<Figure size 500x500 with 1 Axes>"
      ]
     },
     "metadata": {},
     "output_type": "display_data"
    }
   ],
   "source": [
    "drawDiagram( pop_Dict[0:8],\"Wykres 8 najpolularnejszych słów w popie\")"
   ]
  },
  {
   "cell_type": "code",
   "execution_count": 72,
   "metadata": {},
   "outputs": [
    {
     "data": {
      "image/png": "[encoded data removed]",
      "text/plain": [
       "<Figure size 500x500 with 1 Axes>"
      ]
     },
     "metadata": {},
     "output_type": "display_data"
    }
   ],
   "source": [
    "drawDiagram(rock_Dict[0:8],\"Wykres 8 najpolularnejszych słów w rocku\")"
   ]
  },
  {
   "cell_type": "code",
   "execution_count": 73,
   "metadata": {},
   "outputs": [
    {
     "data": {
      "image/png": "[encoded data removed]",
      "text/plain": [
       "<Figure size 500x500 with 1 Axes>"
      ]
     },
     "metadata": {},
     "output_type": "display_data"
    }
   ],
   "source": [
    "drawDiagram(rap_Dict[0:8],\"Wykres 8 najpolularnejszych słów w rapie\")"
   ]
  },
  {
   "cell_type": "code",
   "execution_count": null,
   "metadata": {},
   "outputs": [],
   "source": []
  },
  {
   "cell_type": "code",
   "execution_count": null,
   "metadata": {},
   "outputs": [],
   "source": []
  },
  {
   "cell_type": "code",
   "execution_count": null,
   "metadata": {},
   "outputs": [],
   "source": []
  },
  {
   "cell_type": "code",
   "execution_count": null,
   "metadata": {},
   "outputs": [],
   "source": []
  }
 ],
 "metadata": {
  "kernelspec": {
   "display_name": "Python 3",
   "language": "python",
   "name": "python3"
  },
  "language_info": {
   "codemirror_mode": {
    "name": "ipython",
    "version": 3
   },
   "file_extension": ".py",
   "mimetype": "text/x-python",
   "name": "python",
   "nbconvert_exporter": "python",
   "pygments_lexer": "ipython3",
   "version": "3.7.6"
  }
 },
 "nbformat": 4,
 "nbformat_minor": 4
}
